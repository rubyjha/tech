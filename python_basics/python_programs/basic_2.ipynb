{
 "cells": [
  {
   "cell_type": "code",
   "execution_count": 1,
   "metadata": {},
   "outputs": [
    {
     "name": "stdout",
     "output_type": "stream",
     "text": [
      "Enter a number3\n",
      "3\n",
      "6\n",
      "9\n",
      "12\n",
      "15\n",
      "18\n",
      "21\n",
      "24\n",
      "27\n",
      "30\n"
     ]
    }
   ],
   "source": [
    "# 1. Write a function that inputs a number and prints the multiplication table of that number\n",
    "def print_table(num):\n",
    "    \"\"\"This function print table of given input number\n",
    "    \"\"\"\n",
    "    numbers=10\n",
    "    if num > 0:\n",
    "        for index in range(1,numbers+1):\n",
    "            print(num*index)    \n",
    "            \n",
    "input_num=int(input(\"Enter a number\"))            \n",
    "print_table(input_num)\n"
   ]
  },
  {
   "cell_type": "code",
   "execution_count": 2,
   "metadata": {},
   "outputs": [
    {
     "name": "stdout",
     "output_type": "stream",
     "text": [
      "3 and 5\n",
      "5 and 7\n",
      "11 and 13\n",
      "17 and 19\n",
      "29 and 31\n",
      "41 and 43\n",
      "59 and 61\n",
      "71 and 73\n",
      "101 and 103\n",
      "107 and 109\n",
      "137 and 139\n",
      "149 and 151\n",
      "179 and 181\n",
      "191 and 193\n",
      "197 and 199\n",
      "227 and 229\n",
      "239 and 241\n",
      "269 and 271\n",
      "281 and 283\n",
      "311 and 313\n",
      "347 and 349\n",
      "419 and 421\n",
      "431 and 433\n",
      "461 and 463\n",
      "521 and 523\n",
      "569 and 571\n",
      "599 and 601\n",
      "617 and 619\n",
      "641 and 643\n",
      "659 and 661\n",
      "809 and 811\n",
      "821 and 823\n",
      "827 and 829\n",
      "857 and 859\n",
      "881 and 883\n"
     ]
    }
   ],
   "source": [
    "# 2. Write a program to print twin primes less than 1000. If two consecutive odd numbers are\n",
    "#both prime then they are known as twin primes\n",
    "\n",
    "def is_prime(n):\n",
    "    \"\"\"This function check whether a number is prime or not and return its boolean value\"\"\"\n",
    "    for i in range(2, n):\n",
    "        if n % i == 0:\n",
    "            return False\n",
    "    return True\n",
    "\n",
    "def twin_prime(start, end):\n",
    "    \"\"\"This function generate twin prime numbers\"\"\"\n",
    "    for i in range(start, end):\n",
    "        j = i + 2\n",
    "        if(is_prime(i) and is_prime(j)):\n",
    "            print(\"{} and {}\".format(i, j))\n",
    "\n",
    "twin_prime(2, 1000)\n"
   ]
  },
  {
   "cell_type": "code",
   "execution_count": null,
   "metadata": {},
   "outputs": [],
   "source": [
    "# 3. Write a program to find out the prime factors of a number. Example: prime factors of 56 -\n",
    "# 2, 2, 2, 7\n",
    "num=int(input(\"Enter a number\"))\n",
    "result = []\n",
    "for index in range(2,num):\n",
    "    while num % index == 0:\n",
    "        num = num/index\n",
    "        result.append(index)\n",
    "    if num == 1: \n",
    "        break\n",
    "\n",
    "if num > 1: result.append(num)\n",
    "print(result)"
   ]
  },
  {
   "cell_type": "code",
   "execution_count": 3,
   "metadata": {},
   "outputs": [
    {
     "name": "stdout",
     "output_type": "stream",
     "text": [
      "Value of nPr:  20\n",
      "Value of nCr:  10\n"
     ]
    }
   ],
   "source": [
    "\"\"\"4. Write a program to implement these formulae of permutations and combinations.\n",
    "Number of permutations of n objects taken r at a time: p(n, r) = n! / (n-r)!. Number of\n",
    "combinations of n objects taken r at a time is: c(n, r) = n! / (r!*(n-r)!) = p(n,r) / r!\"\"\"\n",
    "\n",
    "# Number of permutations of n objects taken r at a time\n",
    "import math \n",
    "def fact(n):  \n",
    "    if (n <= 1): \n",
    "        return 1\n",
    "          \n",
    "    return n * fact(n - 1)  \n",
    "  \n",
    "def nPr(n, r):  \n",
    "      \n",
    "    return math.floor(fact(n) /\n",
    "                fact(n - r))  \n",
    "      \n",
    "n = 5\n",
    "r = 2\n",
    "  \n",
    "print(\"Value of nPr: \", nPr(n, r)) \n",
    "\n",
    "# Number of combinations of n objects taken r at a time\n",
    "def nCr(n, r): \n",
    "  \n",
    "    return (fact(n) / (fact(r)  \n",
    "                * fact(n - r))) \n",
    "  \n",
    "# Returns factorial of n \n",
    "def factorial(n): \n",
    "  \n",
    "    result = 1\n",
    "      \n",
    "    for i in range(2, n+1): \n",
    "        result = result * i \n",
    "          \n",
    "    return result \n",
    "  \n",
    "n = 5\n",
    "r = 2\n",
    "print(\"Value of nCr: \", int(nCr(n, r))) \n",
    "\n"
   ]
  },
  {
   "cell_type": "code",
   "execution_count": 4,
   "metadata": {},
   "outputs": [
    {
     "name": "stdout",
     "output_type": "stream",
     "text": [
      "Enter a decimal number: 20\n",
      "10100"
     ]
    }
   ],
   "source": [
    "#5. Write a function that converts a decimal number to binary number\n",
    "def decimalToBinary(num):\n",
    "    \"\"\"This function converts decimal number\n",
    "    to binary and prints it\"\"\"\n",
    "    if num > 1:\n",
    "        decimalToBinary(num // 2)\n",
    "    print(num % 2, end='')\n",
    "\n",
    "# decimal number\n",
    "number = int(input(\"Enter a decimal number: \"))\n",
    "\n",
    "decimalToBinary(number)"
   ]
  },
  {
   "cell_type": "code",
   "execution_count": 65,
   "metadata": {},
   "outputs": [
    {
     "name": "stdout",
     "output_type": "stream",
     "text": [
      "Enter a number: 153\n",
      "The result of cube sums is: 153\n",
      "153 is an Armstrong number\n"
     ]
    }
   ],
   "source": [
    "# 6.Write a function cubesum() that accepts an integer and returns the sum of the cubes of\n",
    "#individual digits of that number. Use this function to make functions PrintArmstrong() and\n",
    "#isArmstrong() to print Armstrong numbers and to find whether is an Armstrong number.\n",
    "\n",
    "def cubesum(number):\n",
    "    '''This funtion will return cube \n",
    "    sum of a input number'''\n",
    "    cubesum=0\n",
    "    temp=number\n",
    "    while temp > 0:\n",
    "        num = temp%10\n",
    "        cube = num*num*num\n",
    "        cubesum = cubesum + cube\n",
    "        temp = temp//10\n",
    "    \n",
    "    print(\"The result of cube sums is:\", cubesum)\n",
    "    \n",
    "    if cubesum==number:\n",
    "        print(number,\"is an Armstrong number\")\n",
    "    else:\n",
    "        print(number,\"is not an Armstrong number\")\n",
    "        \n",
    "\n",
    "n = int(input(\"Enter a number: \"))\n",
    "cubesum(n)\n"
   ]
  },
  {
   "cell_type": "code",
   "execution_count": 1,
   "metadata": {},
   "outputs": [
    {
     "name": "stdout",
     "output_type": "stream",
     "text": [
      "Enter a number: 125\n",
      "Product of digits 10\n"
     ]
    }
   ],
   "source": [
    "#7. Write a function prodDigits() that inputs a number and returns the product of digits of that\n",
    "#number.\n",
    "\n",
    "def prodDigits(num):\n",
    "    '''This function will return product of digits of a given number'''\n",
    "    product = 1\n",
    "    while (num != 0): \n",
    "        product = product*(num % 10) \n",
    "        num = num//10\n",
    "    return product \n",
    "\n",
    "num = int(input(\"Enter a number: \"))\n",
    "prod = prodDigits(num)\n",
    "print(\"Product of digits\", prod)"
   ]
  },
  {
   "cell_type": "code",
   "execution_count": 2,
   "metadata": {},
   "outputs": [
    {
     "name": "stdout",
     "output_type": "stream",
     "text": [
      "Enter a number: 130\n",
      "(0, 1)\n"
     ]
    }
   ],
   "source": [
    "\"\"\"8. If all digits of a number n are multiplied by each other repeating with the product, the one\n",
    "digit number obtained at last is called the multiplicative digital root of n. The number of\n",
    "times digits need to be multiplied to reach one digit is called the multiplicative\n",
    "persistance of n.\n",
    "Example: 86 -> 48 -> 32 -> 6 (MDR 6, MPersistence 3)\n",
    " 341 -> 12->2 (MDR 2, MPersistence 2)\n",
    "Using the function prodDigits() of previous exercise write functions MDR() and\n",
    "MPersistence() that input a number and return its multiplicative digital root and\n",
    "multiplicative persistence respectively\"\"\"\n",
    "\n",
    "def getMdrAndMp(number):\n",
    "    '''This method return multiplicative digital root and\n",
    "multiplicative persistenc of a number'''\n",
    "    \n",
    "    countMp = 0\n",
    "    currentMdr = number\n",
    "    while currentMdr > 9:\n",
    "        currentMdr = prodDigits(currentMdr)\n",
    "        countMp += 1\n",
    "    return currentMdr, countMp\n",
    "\n",
    "num = int(input(\"Enter a number: \"))\n",
    "mdrAndMp = getMdrAndMp(num)\n",
    "print(mdrAndMp)\n"
   ]
  },
  {
   "cell_type": "code",
   "execution_count": 22,
   "metadata": {},
   "outputs": [
    {
     "name": "stdout",
     "output_type": "stream",
     "text": [
      "Enter a number: 12\n",
      "16\n"
     ]
    }
   ],
   "source": [
    "'''9. Write a function sumPdivisors() that finds the sum of proper divisors of a number. \n",
    "Proper divisors of a number are those numbers by which the number is divisible, except the number itself. \n",
    "For example proper divisors of 36 are 1, 2, 3, 4, 6, 9, 18'''\n",
    "\n",
    "def sumPdivisors(num):\n",
    "    '''This function returns sum of proper divisors of a number'''\n",
    "    result=0\n",
    "    for index in range(1,num):\n",
    "        if num%index==0:\n",
    "            result+=index\n",
    "    return result    \n",
    "    \n",
    "num = int(input(\"Enter a number: \"))   \n",
    "sumOfDivisors=sumPdivisors(num)\n",
    "print(sumOfDivisors)"
   ]
  },
  {
   "cell_type": "code",
   "execution_count": 20,
   "metadata": {},
   "outputs": [
    {
     "name": "stdout",
     "output_type": "stream",
     "text": [
      "6\n",
      "28\n",
      "496\n"
     ]
    }
   ],
   "source": [
    "\"\"\"10. A number is called perfect if the sum of proper divisors of that number is equal to the\n",
    "number. For example 28 is perfect number, since 1+2+4+7+14=28. Write a program to\n",
    "print all the perfect numbers in a given range\"\"\"\n",
    "\n",
    "def printPerfectNums(start, end):\n",
    "    \"\"\"This function will print perfect square of a number\"\"\"\n",
    "    for num in range(start, end+1):\n",
    "        result=0\n",
    "        for n in range(1,num):\n",
    "            if num % n == 0:\n",
    "                result+=n\n",
    "        if(result==num):\n",
    "            print(num)\n",
    "                    \n",
    "printPerfectNums(1, 500)\n"
   ]
  },
  {
   "cell_type": "code",
   "execution_count": 52,
   "metadata": {},
   "outputs": [
    {
     "name": "stdout",
     "output_type": "stream",
     "text": [
      "Finding Amicable numbers..\n",
      "(6, 6)\n",
      "(28, 28)\n",
      "(220, 284)\n",
      "(284, 220)\n",
      "(496, 496)\n"
     ]
    }
   ],
   "source": [
    "\"\"\"11. Two different numbers are called amicable numbers if the sum of the proper divisors of\n",
    "each is equal to the other number. For example 220 and 284 are amicable numbers.\n",
    "Sum of proper divisors of 220 = 1+2+4+5+10+11+20+22+44+55+110 = 284\n",
    "Sum of proper divisors of 284 = 1+2+4+71+142 = 220\n",
    "Write a function to print pairs of amicable numbers in a range\"\"\"\n",
    "\n",
    "def printAmicable(): \n",
    "    '''This method will print the Amicable pairs of given range of numbers'''\n",
    "    index1 = 1\n",
    "    index2 = 1000\n",
    "\n",
    "    print(\"Finding Amicable numbers..\")\n",
    "    d = {}\n",
    "    for index in range(index1, index2+1):\n",
    "        s = sum(i for i in range(1, index) if index % i == 0)\n",
    "        d[index] = s\n",
    "    for n in d:\n",
    "        if d[n] in d and d[d[n]] == n:\n",
    "            amicables = n, d[n]\n",
    "            print(amicables)\n",
    "#amicables = [(n, d[n]) for n in d if d[n] in d and d[d[n]] == n]    \n",
    "printAmicable()   "
   ]
  },
  {
   "cell_type": "code",
   "execution_count": 59,
   "metadata": {},
   "outputs": [
    {
     "name": "stdout",
     "output_type": "stream",
     "text": [
      "[1, 3, 5, 13, 15, 21]\n"
     ]
    }
   ],
   "source": [
    "#12. Write a program which can filter odd numbers in a list by using filter function\n",
    "lst = [0, 1, 2, 3, 5, 8, 13,15,20,21] \n",
    "  \n",
    "# result contains odd numbers of the list \n",
    "result = filter(lambda num: num % 2 == 1, lst) \n",
    "print(list(result)) \n"
   ]
  },
  {
   "cell_type": "code",
   "execution_count": 61,
   "metadata": {},
   "outputs": [
    {
     "name": "stdout",
     "output_type": "stream",
     "text": [
      "[1, 8, 27, 64, 125, 216]\n"
     ]
    }
   ],
   "source": [
    "\"\"\" 13. Write a program which can map() to make a list whose elements are cube of elements in\n",
    "a given list \"\"\"\n",
    "\n",
    "def cube(x):\n",
    "        return x*x*x\n",
    "    \n",
    "numbers = [1,2,3,4,5,6]\n",
    "cubes = map(cube, numbers)\n",
    "\n",
    "print(list(cubes))\n"
   ]
  },
  {
   "cell_type": "code",
   "execution_count": 64,
   "metadata": {},
   "outputs": [
    {
     "name": "stdout",
     "output_type": "stream",
     "text": [
      "[8, 64, 216]\n"
     ]
    }
   ],
   "source": [
    "\"\"\"14. Write a program which can map() and filter() to make a list whose elements are cube of\n",
    "even number in a given list\"\"\"\n",
    "\n",
    "def filterEvenCube(x):\n",
    "        return x*x*x\n",
    "    \n",
    "numbers = [1,2,3,4,5,6]\n",
    "cubes = map(filterEvenCube, numbers)\n",
    "even_numbers = list(filter(lambda x: x % 2 == 0, cubes))\n",
    "\n",
    "print(list(even_numbers)) "
   ]
  },
  {
   "cell_type": "code",
   "execution_count": null,
   "metadata": {},
   "outputs": [],
   "source": []
  }
 ],
 "metadata": {
  "kernelspec": {
   "display_name": "Python 3",
   "language": "python",
   "name": "python3"
  },
  "language_info": {
   "codemirror_mode": {
    "name": "ipython",
    "version": 3
   },
   "file_extension": ".py",
   "mimetype": "text/x-python",
   "name": "python",
   "nbconvert_exporter": "python",
   "pygments_lexer": "ipython3",
   "version": "3.7.0"
  }
 },
 "nbformat": 4,
 "nbformat_minor": 2
}
