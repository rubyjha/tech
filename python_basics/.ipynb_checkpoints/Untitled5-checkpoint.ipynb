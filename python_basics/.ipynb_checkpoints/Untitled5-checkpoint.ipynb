{
 "cells": [
  {
   "cell_type": "markdown",
   "metadata": {},
   "source": [
    "# Multithreading"
   ]
  },
  {
   "cell_type": "code",
   "execution_count": null,
   "metadata": {},
   "outputs": [],
   "source": []
  },
  {
   "cell_type": "code",
   "execution_count": 6,
   "metadata": {},
   "outputs": [
    {
     "name": "stdout",
     "output_type": "stream",
     "text": [
      "calculate square numberscalculate cube of numbers\n",
      "\n",
      "\n",
      "\n",
      "done in :  0.018464088439941406\n",
      "square: 4\n",
      "square: 9\n",
      "square: 64\n",
      "square: 81\n",
      "cube: 8\n",
      "cube: 27\n"
     ]
    }
   ],
   "source": [
    "import time\n",
    "import threading\n",
    "\n",
    "def calc_square(numbers):\n",
    "    print(\"calculate square numbers\")\n",
    "    for n in numbers:\n",
    "        #time.sleep(5)\n",
    "        print('square:',n*n)\n",
    "\n",
    "def calc_cube(numbers):\n",
    "    print(\"calculate cube of numbers\")\n",
    "    for n in numbers:\n",
    "        time.sleep(5)\n",
    "        print('cube:',n*n*n)\n",
    "\n",
    "arr = [2,3,8,9]\n",
    "\n",
    "t = time.time()\n",
    "\n",
    "t1= threading.Thread(target=calc_square, args=(arr,))\n",
    "t2= threading.Thread(target=calc_cube, args=(arr,))\n",
    "\n",
    "t1.start()\n",
    "t2.start()\n",
    "\n",
    "#t1.join()\n",
    "#t2.join()\n",
    "print(\"\\n\")\n",
    "print(\"done in : \",time.time()-t)\n"
   ]
  },
  {
   "cell_type": "code",
   "execution_count": null,
   "metadata": {},
   "outputs": [],
   "source": []
  }
 ],
 "metadata": {
  "kernelspec": {
   "display_name": "Python 3",
   "language": "python",
   "name": "python3"
  },
  "language_info": {
   "codemirror_mode": {
    "name": "ipython",
    "version": 3
   },
   "file_extension": ".py",
   "mimetype": "text/x-python",
   "name": "python",
   "nbconvert_exporter": "python",
   "pygments_lexer": "ipython3",
   "version": "3.7.0"
  }
 },
 "nbformat": 4,
 "nbformat_minor": 2
}
