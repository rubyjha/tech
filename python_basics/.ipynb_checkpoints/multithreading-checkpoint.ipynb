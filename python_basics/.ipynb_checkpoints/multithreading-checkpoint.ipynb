{
 "cells": [
  {
   "cell_type": "markdown",
   "metadata": {},
   "source": [
    "# Multithreading"
   ]
  },
  {
   "cell_type": "markdown",
   "metadata": {},
   "source": [
    "Threading in python is used to run multiple threads (tasks, function calls) at the same time. threading module provides a very simple and intuitive API for spawning multiple threads in a program.\n",
    "\n",
    "To import the threading module, we need to import threading module.\n",
    "\n",
    "To create a new thread, we create an object of Thread class. \n",
    "\n",
    "It takes following arguments:\n",
    "target: the function to be executed by thread\n",
    "args: the arguments to be passed to the target function\n",
    "\n",
    "To start a thread, we use start() method of Thread class.\n"
   ]
  },
  {
   "cell_type": "code",
   "execution_count": 6,
   "metadata": {},
   "outputs": [
    {
     "name": "stdout",
     "output_type": "stream",
     "text": [
      "calculate square numberscalculate cube of numbers\n",
      "\n",
      "\n",
      "\n",
      "done in :  0.018464088439941406\n",
      "square: 4\n",
      "square: 9\n",
      "square: 64\n",
      "square: 81\n",
      "cube: 8\n",
      "cube: 27\n",
      "cube: 512\n",
      "cube: 729\n"
     ]
    }
   ],
   "source": [
    "import time\n",
    "import threading\n",
    "\n",
    "def calc_square(numbers):\n",
    "    print(\"calculate square numbers\")\n",
    "    for n in numbers:\n",
    "        #time.sleep(5)\n",
    "        print('square:',n*n)\n",
    "\n",
    "def calc_cube(numbers):\n",
    "    print(\"calculate cube of numbers\")\n",
    "    for n in numbers:\n",
    "        time.sleep(5)\n",
    "        print('cube:',n*n*n)\n",
    "\n",
    "arr = [2,3,8,9]\n",
    "\n",
    "t = time.time()\n",
    "\n",
    "t1= threading.Thread(target=calc_square, args=(arr,))\n",
    "t2= threading.Thread(target=calc_cube, args=(arr,))\n",
    "\n",
    "t1.start()\n",
    "t2.start()\n",
    "\n",
    "#t1.join()\n",
    "#t2.join()\n",
    "print(\"\\n\")\n",
    "print(\"done in : \",time.time()-t)\n"
   ]
  },
  {
   "cell_type": "markdown",
   "metadata": {},
   "source": [
    "# Example with Function Call"
   ]
  },
  {
   "cell_type": "code",
   "execution_count": 7,
   "metadata": {},
   "outputs": [
    {
     "name": "stdout",
     "output_type": "stream",
     "text": [
      "1\n",
      "2\n",
      "3\n",
      "4\n",
      "5\n",
      "6\n",
      "7\n",
      "8\n",
      "9\n",
      "10\n"
     ]
    }
   ],
   "source": [
    "import threading\n",
    "import time\n",
    "\n",
    "def print1_10():\n",
    "    for i in range(1, 11):\n",
    "        time.sleep(1)\n",
    "        print(i)\n",
    "\n",
    "threading.Thread(target=print1_10).start()"
   ]
  },
  {
   "cell_type": "markdown",
   "metadata": {},
   "source": [
    "# Example with Class"
   ]
  },
  {
   "cell_type": "code",
   "execution_count": 8,
   "metadata": {},
   "outputs": [
    {
     "name": "stdout",
     "output_type": "stream",
     "text": [
      "Thread-0 started!\n",
      "Thread-1 started!\n",
      "Thread-0 finished!\n",
      "Thread-2 started!\n",
      "Thread-1 finished!\n",
      "Thread-3 started!\n",
      "Thread-2 finished!\n",
      "Thread-3 finished!\n"
     ]
    }
   ],
   "source": [
    "import threading\n",
    "import time\n",
    "\n",
    "\n",
    "class MyThread(threading.Thread):\n",
    "    def run(self):                                         \n",
    "        print(\"{} started!\".format(self.getName()))        \n",
    "        time.sleep(1)                                      \n",
    "        print(\"{} finished!\".format(self.getName()))       \n",
    "\n",
    "def main():\n",
    "    for x in range(4):                                     \n",
    "        mythread = MyThread(name = \"Thread-{}\".format(x))  \n",
    "        mythread.start()                                   \n",
    "        time.sleep(.9)                                     \n",
    "\n",
    "if __name__ == '__main__':\n",
    "    main()"
   ]
  },
  {
   "cell_type": "code",
   "execution_count": null,
   "metadata": {},
   "outputs": [],
   "source": []
  }
 ],
 "metadata": {
  "kernelspec": {
   "display_name": "Python 3",
   "language": "python",
   "name": "python3"
  },
  "language_info": {
   "codemirror_mode": {
    "name": "ipython",
    "version": 3
   },
   "file_extension": ".py",
   "mimetype": "text/x-python",
   "name": "python",
   "nbconvert_exporter": "python",
   "pygments_lexer": "ipython3",
   "version": "3.7.0"
  }
 },
 "nbformat": 4,
 "nbformat_minor": 2
}
